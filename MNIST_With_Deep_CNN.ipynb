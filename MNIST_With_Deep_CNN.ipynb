{
  "nbformat": 4,
  "nbformat_minor": 0,
  "metadata": {
    "colab": {
      "provenance": []
    },
    "kernelspec": {
      "name": "python3",
      "display_name": "Python 3"
    },
    "language_info": {
      "name": "python"
    },
    "accelerator": "GPU",
    "gpuClass": "standard"
  },
  "cells": [
    {
      "cell_type": "markdown",
      "source": [
        "***Here in this notebook, I have created a CNN model with Conv2D, MaxPooling, Flattening and Dense layers. I have used Adam optimizer and used accuracy matrix for getting the results.\n",
        "I have built a model on MNIST data set and played with some hyper parameter like number of filters, Maxpooling layer, dropout layers to check the model accuracy on training and testing data set.\n",
        "Please go through the notebook and let’s have a look on loss and accuracy metrics, how it is impacting after changing some hyperparameter.***\n"
      ],
      "metadata": {
        "id": "G9QnDA5gDagj"
      }
    },
    {
      "cell_type": "code",
      "execution_count": 12,
      "metadata": {
        "id": "WSNdvllE3rsM"
      },
      "outputs": [],
      "source": [
        "import tensorflow as tf\n",
        "from tensorflow import keras\n",
        "from functools import partial"
      ]
    },
    {
      "cell_type": "code",
      "source": [
        "dataset= keras.datasets.fashion_mnist"
      ],
      "metadata": {
        "id": "gfTEFyHE32uL"
      },
      "execution_count": 13,
      "outputs": []
    },
    {
      "cell_type": "code",
      "source": [
        "(X_train_full, y_train_full), (X_test, y_test)= dataset.load_data()"
      ],
      "metadata": {
        "id": "QMLhjs_i4FR6"
      },
      "execution_count": 14,
      "outputs": []
    },
    {
      "cell_type": "code",
      "source": [
        "X_train_full.shape"
      ],
      "metadata": {
        "colab": {
          "base_uri": "https://localhost:8080/"
        },
        "id": "2B5d-AE64Nng",
        "outputId": "9e3e4d7e-054f-4811-e656-a2c14340eeb6"
      },
      "execution_count": 15,
      "outputs": [
        {
          "output_type": "execute_result",
          "data": {
            "text/plain": [
              "(60000, 28, 28)"
            ]
          },
          "metadata": {},
          "execution_count": 15
        }
      ]
    },
    {
      "cell_type": "code",
      "source": [
        "X_valid, X_train= X_train_full[:5000]/255, X_train_full[5000:]/255\n",
        "y_valid, y_train= y_train_full[:5000], y_train_full[5000:]"
      ],
      "metadata": {
        "id": "REhInSEb4V3o"
      },
      "execution_count": 16,
      "outputs": []
    },
    {
      "cell_type": "code",
      "source": [
        "X_valid.shape"
      ],
      "metadata": {
        "colab": {
          "base_uri": "https://localhost:8080/"
        },
        "id": "MrpvBlci4pHu",
        "outputId": "c766effc-3b3c-4a6a-fbd7-809bde6dc16f"
      },
      "execution_count": 17,
      "outputs": [
        {
          "output_type": "execute_result",
          "data": {
            "text/plain": [
              "(5000, 28, 28)"
            ]
          },
          "metadata": {},
          "execution_count": 17
        }
      ]
    },
    {
      "cell_type": "code",
      "source": [
        "y_valid.shape"
      ],
      "metadata": {
        "colab": {
          "base_uri": "https://localhost:8080/"
        },
        "id": "Xu59TNqn4rS0",
        "outputId": "d8db4340-1f3b-4a0f-9cc0-1415b5f96d94"
      },
      "execution_count": 18,
      "outputs": [
        {
          "output_type": "execute_result",
          "data": {
            "text/plain": [
              "(5000,)"
            ]
          },
          "metadata": {},
          "execution_count": 18
        }
      ]
    },
    {
      "cell_type": "markdown",
      "source": [
        "***We have used a partial layer to use those parameters as a default parameter at Convolution layer. In the first model we have used MaxPooling layer after every 2 CNN layers and we have increased number of filters to its double than previous value. italicized text***"
      ],
      "metadata": {
        "id": "2yvRa7pSD187"
      }
    },
    {
      "cell_type": "code",
      "source": [
        "Convl2d= partial(keras.layers.Conv2D, kernel_size=3, activation='relu', padding='SAME')"
      ],
      "metadata": {
        "id": "r1yT3fkT4--e"
      },
      "execution_count": 19,
      "outputs": []
    },
    {
      "cell_type": "code",
      "source": [
        "model= keras.models.Sequential([\n",
        "    Convl2d(filters=32, kernel_size=7, input_shape=[28,28,1]),\n",
        "    keras.layers.MaxPooling2D(pool_size=2),\n",
        "    Convl2d(filters=128),\n",
        "    Convl2d(filters=128),\n",
        "    keras.layers.MaxPool2D(pool_size=2),\n",
        "    Convl2d(filters=256),\n",
        "    Convl2d(filters=256),\n",
        "    keras.layers.Flatten(),\n",
        "    keras.layers.Dense(128, activation=\"relu\"),\n",
        "    keras.layers.Dense(64, activation=\"relu\"),\n",
        "    keras.layers.Dense(10, activation=\"softmax\")\n",
        "])"
      ],
      "metadata": {
        "id": "H19v46X1519Q"
      },
      "execution_count": 20,
      "outputs": []
    },
    {
      "cell_type": "code",
      "source": [
        "model.summary()"
      ],
      "metadata": {
        "colab": {
          "base_uri": "https://localhost:8080/"
        },
        "id": "QzXym2QM8CI6",
        "outputId": "c06475ff-f332-49ed-c041-c0ce9b7494e7"
      },
      "execution_count": 21,
      "outputs": [
        {
          "output_type": "stream",
          "name": "stdout",
          "text": [
            "Model: \"sequential_1\"\n",
            "_________________________________________________________________\n",
            " Layer (type)                Output Shape              Param #   \n",
            "=================================================================\n",
            " conv2d_5 (Conv2D)           (None, 28, 28, 32)        1600      \n",
            "                                                                 \n",
            " max_pooling2d_2 (MaxPooling  (None, 14, 14, 32)       0         \n",
            " 2D)                                                             \n",
            "                                                                 \n",
            " conv2d_6 (Conv2D)           (None, 14, 14, 128)       36992     \n",
            "                                                                 \n",
            " conv2d_7 (Conv2D)           (None, 14, 14, 128)       147584    \n",
            "                                                                 \n",
            " max_pooling2d_3 (MaxPooling  (None, 7, 7, 128)        0         \n",
            " 2D)                                                             \n",
            "                                                                 \n",
            " conv2d_8 (Conv2D)           (None, 7, 7, 256)         295168    \n",
            "                                                                 \n",
            " conv2d_9 (Conv2D)           (None, 7, 7, 256)         590080    \n",
            "                                                                 \n",
            " flatten_1 (Flatten)         (None, 12544)             0         \n",
            "                                                                 \n",
            " dense_3 (Dense)             (None, 128)               1605760   \n",
            "                                                                 \n",
            " dense_4 (Dense)             (None, 64)                8256      \n",
            "                                                                 \n",
            " dense_5 (Dense)             (None, 10)                650       \n",
            "                                                                 \n",
            "=================================================================\n",
            "Total params: 2,686,090\n",
            "Trainable params: 2,686,090\n",
            "Non-trainable params: 0\n",
            "_________________________________________________________________\n"
          ]
        }
      ]
    },
    {
      "cell_type": "code",
      "source": [
        "loss_fun= keras.losses.SparseCategoricalCrossentropy()\n",
        "optimizer_fun= keras.optimizers.Adam()\n",
        "model.compile(loss=loss_fun,\n",
        "              optimizer=optimizer_fun,\n",
        "              metrics=[\"accuracy\"])"
      ],
      "metadata": {
        "id": "v7bER5l18JGk"
      },
      "execution_count": 22,
      "outputs": []
    },
    {
      "cell_type": "code",
      "source": [
        "model.fit(X_train, y_train, epochs=30, validation_data=(X_valid, y_valid))"
      ],
      "metadata": {
        "colab": {
          "base_uri": "https://localhost:8080/"
        },
        "id": "RLc0n9Ge8rQa",
        "outputId": "95bc2f1f-d6fd-49eb-e620-754688deebc1"
      },
      "execution_count": 23,
      "outputs": [
        {
          "output_type": "stream",
          "name": "stdout",
          "text": [
            "Epoch 1/30\n",
            "1719/1719 [==============================] - 21s 7ms/step - loss: 0.4408 - accuracy: 0.8376 - val_loss: 0.3268 - val_accuracy: 0.8790\n",
            "Epoch 2/30\n",
            "1719/1719 [==============================] - 11s 7ms/step - loss: 0.2901 - accuracy: 0.8921 - val_loss: 0.2610 - val_accuracy: 0.9016\n",
            "Epoch 3/30\n",
            "1719/1719 [==============================] - 12s 7ms/step - loss: 0.2476 - accuracy: 0.9080 - val_loss: 0.2537 - val_accuracy: 0.9048\n",
            "Epoch 4/30\n",
            "1719/1719 [==============================] - 11s 7ms/step - loss: 0.2156 - accuracy: 0.9197 - val_loss: 0.2461 - val_accuracy: 0.9036\n",
            "Epoch 5/30\n",
            "1719/1719 [==============================] - 11s 7ms/step - loss: 0.1916 - accuracy: 0.9288 - val_loss: 0.2558 - val_accuracy: 0.9086\n",
            "Epoch 6/30\n",
            "1719/1719 [==============================] - 11s 7ms/step - loss: 0.1679 - accuracy: 0.9371 - val_loss: 0.2496 - val_accuracy: 0.9112\n",
            "Epoch 7/30\n",
            "1719/1719 [==============================] - 12s 7ms/step - loss: 0.1483 - accuracy: 0.9432 - val_loss: 0.2564 - val_accuracy: 0.9134\n",
            "Epoch 8/30\n",
            "1719/1719 [==============================] - 11s 7ms/step - loss: 0.1321 - accuracy: 0.9497 - val_loss: 0.2611 - val_accuracy: 0.9188\n",
            "Epoch 9/30\n",
            "1719/1719 [==============================] - 12s 7ms/step - loss: 0.1181 - accuracy: 0.9551 - val_loss: 0.2811 - val_accuracy: 0.9114\n",
            "Epoch 10/30\n",
            "1719/1719 [==============================] - 11s 7ms/step - loss: 0.1049 - accuracy: 0.9603 - val_loss: 0.2651 - val_accuracy: 0.9170\n",
            "Epoch 11/30\n",
            "1719/1719 [==============================] - 12s 7ms/step - loss: 0.0932 - accuracy: 0.9655 - val_loss: 0.3185 - val_accuracy: 0.9156\n",
            "Epoch 12/30\n",
            "1719/1719 [==============================] - 11s 7ms/step - loss: 0.0845 - accuracy: 0.9693 - val_loss: 0.3262 - val_accuracy: 0.9182\n",
            "Epoch 13/30\n",
            "1719/1719 [==============================] - 11s 7ms/step - loss: 0.0849 - accuracy: 0.9691 - val_loss: 0.3103 - val_accuracy: 0.9176\n",
            "Epoch 14/30\n",
            "1719/1719 [==============================] - 11s 7ms/step - loss: 0.0731 - accuracy: 0.9739 - val_loss: 0.3438 - val_accuracy: 0.9190\n",
            "Epoch 15/30\n",
            "1719/1719 [==============================] - 12s 7ms/step - loss: 0.0688 - accuracy: 0.9746 - val_loss: 0.3604 - val_accuracy: 0.9178\n",
            "Epoch 16/30\n",
            "1719/1719 [==============================] - 12s 7ms/step - loss: 0.0645 - accuracy: 0.9768 - val_loss: 0.4135 - val_accuracy: 0.9178\n",
            "Epoch 17/30\n",
            "1719/1719 [==============================] - 12s 7ms/step - loss: 0.0647 - accuracy: 0.9781 - val_loss: 0.4150 - val_accuracy: 0.9134\n",
            "Epoch 18/30\n",
            "1719/1719 [==============================] - 12s 7ms/step - loss: 0.0612 - accuracy: 0.9794 - val_loss: 0.3902 - val_accuracy: 0.9142\n",
            "Epoch 19/30\n",
            "1719/1719 [==============================] - 12s 7ms/step - loss: 0.0560 - accuracy: 0.9802 - val_loss: 0.4480 - val_accuracy: 0.9178\n",
            "Epoch 20/30\n",
            "1719/1719 [==============================] - 12s 7ms/step - loss: 0.0578 - accuracy: 0.9806 - val_loss: 0.4035 - val_accuracy: 0.9192\n",
            "Epoch 21/30\n",
            "1719/1719 [==============================] - 11s 7ms/step - loss: 0.0554 - accuracy: 0.9817 - val_loss: 0.4072 - val_accuracy: 0.9158\n",
            "Epoch 22/30\n",
            "1719/1719 [==============================] - 11s 7ms/step - loss: 0.0483 - accuracy: 0.9834 - val_loss: 0.4464 - val_accuracy: 0.9138\n",
            "Epoch 23/30\n",
            "1719/1719 [==============================] - 12s 7ms/step - loss: 0.0483 - accuracy: 0.9834 - val_loss: 0.4750 - val_accuracy: 0.9138\n",
            "Epoch 24/30\n",
            "1719/1719 [==============================] - 11s 7ms/step - loss: 0.0469 - accuracy: 0.9846 - val_loss: 0.5281 - val_accuracy: 0.9156\n",
            "Epoch 25/30\n",
            "1719/1719 [==============================] - 11s 7ms/step - loss: 0.0424 - accuracy: 0.9861 - val_loss: 0.4754 - val_accuracy: 0.9162\n",
            "Epoch 26/30\n",
            "1719/1719 [==============================] - 11s 7ms/step - loss: 0.0467 - accuracy: 0.9846 - val_loss: 0.4653 - val_accuracy: 0.9172\n",
            "Epoch 27/30\n",
            "1719/1719 [==============================] - 11s 7ms/step - loss: 0.0445 - accuracy: 0.9856 - val_loss: 0.4765 - val_accuracy: 0.9172\n",
            "Epoch 28/30\n",
            "1719/1719 [==============================] - 12s 7ms/step - loss: 0.0492 - accuracy: 0.9853 - val_loss: 0.4785 - val_accuracy: 0.9128\n",
            "Epoch 29/30\n",
            "1719/1719 [==============================] - 11s 7ms/step - loss: 0.0387 - accuracy: 0.9876 - val_loss: 0.4614 - val_accuracy: 0.9148\n",
            "Epoch 30/30\n",
            "1719/1719 [==============================] - 11s 7ms/step - loss: 0.0442 - accuracy: 0.9862 - val_loss: 0.4790 - val_accuracy: 0.9154\n"
          ]
        },
        {
          "output_type": "execute_result",
          "data": {
            "text/plain": [
              "<keras.callbacks.History at 0x7f482a1de190>"
            ]
          },
          "metadata": {},
          "execution_count": 23
        }
      ]
    },
    {
      "cell_type": "markdown",
      "source": [
        "***Training Accuracy= 98%***     ***Validation accuracy= 91***\n",
        "\n",
        "***It seems that this model is overfitting. To reduce the overfitting, we can try adding dropout layer with 0.5% drop out rate after every Dense layer and check how it is behaving.*** \n",
        "\n"
      ],
      "metadata": {
        "id": "HaICHCR2EUXd"
      }
    },
    {
      "cell_type": "code",
      "source": [
        "model_1= keras.models.Sequential([\n",
        "    Convl2d(filters=32, kernel_size=7, input_shape=[28,28,1]),\n",
        "    keras.layers.MaxPooling2D(pool_size=2),\n",
        "    Convl2d(filters=128),\n",
        "    Convl2d(filters=128),\n",
        "    keras.layers.MaxPool2D(pool_size=2),\n",
        "    Convl2d(filters=256),\n",
        "    Convl2d(filters=256),\n",
        "    keras.layers.Flatten(),\n",
        "    keras.layers.Dense(128, activation=\"relu\"),\n",
        "    keras.layers.Dropout(0.5),   \n",
        "    keras.layers.Dense(64, activation=\"relu\"),\n",
        "    keras.layers.Dropout(0.5),\n",
        "    keras.layers.Dense(10, activation=\"softmax\")\n",
        "])\n",
        "\n",
        "loss_fun= keras.losses.SparseCategoricalCrossentropy()\n",
        "optimizer_fun= keras.optimizers.Adam()\n",
        "model_1.compile(loss=loss_fun,\n",
        "              optimizer=optimizer_fun,\n",
        "              metrics=[\"accuracy\"])\n",
        "\n",
        "model_1.fit(X_train, y_train, epochs=30, validation_data=(X_valid, y_valid))"
      ],
      "metadata": {
        "colab": {
          "base_uri": "https://localhost:8080/"
        },
        "id": "mwOGDqks-ufu",
        "outputId": "f0f7f181-a457-4767-d814-d06298190d00"
      },
      "execution_count": 24,
      "outputs": [
        {
          "output_type": "stream",
          "name": "stdout",
          "text": [
            "Epoch 1/30\n",
            "1719/1719 [==============================] - 12s 7ms/step - loss: 0.7436 - accuracy: 0.7380 - val_loss: 0.3880 - val_accuracy: 0.8544\n",
            "Epoch 2/30\n",
            "1719/1719 [==============================] - 11s 7ms/step - loss: 0.4257 - accuracy: 0.8535 - val_loss: 0.3244 - val_accuracy: 0.8862\n",
            "Epoch 3/30\n",
            "1719/1719 [==============================] - 12s 7ms/step - loss: 0.3671 - accuracy: 0.8741 - val_loss: 0.2944 - val_accuracy: 0.8862\n",
            "Epoch 4/30\n",
            "1719/1719 [==============================] - 11s 7ms/step - loss: 0.3292 - accuracy: 0.8877 - val_loss: 0.2811 - val_accuracy: 0.8976\n",
            "Epoch 5/30\n",
            "1719/1719 [==============================] - 12s 7ms/step - loss: 0.3076 - accuracy: 0.8955 - val_loss: 0.2599 - val_accuracy: 0.9042\n",
            "Epoch 6/30\n",
            "1719/1719 [==============================] - 11s 7ms/step - loss: 0.2821 - accuracy: 0.9033 - val_loss: 0.2463 - val_accuracy: 0.9102\n",
            "Epoch 7/30\n",
            "1719/1719 [==============================] - 11s 7ms/step - loss: 0.2614 - accuracy: 0.9109 - val_loss: 0.2820 - val_accuracy: 0.8988\n",
            "Epoch 8/30\n",
            "1719/1719 [==============================] - 12s 7ms/step - loss: 0.2490 - accuracy: 0.9139 - val_loss: 0.2519 - val_accuracy: 0.9126\n",
            "Epoch 9/30\n",
            "1719/1719 [==============================] - 13s 7ms/step - loss: 0.2405 - accuracy: 0.9174 - val_loss: 0.2469 - val_accuracy: 0.9084\n",
            "Epoch 10/30\n",
            "1719/1719 [==============================] - 12s 7ms/step - loss: 0.2312 - accuracy: 0.9197 - val_loss: 0.2643 - val_accuracy: 0.9142\n",
            "Epoch 11/30\n",
            "1719/1719 [==============================] - 12s 7ms/step - loss: 0.2169 - accuracy: 0.9260 - val_loss: 0.2642 - val_accuracy: 0.9128\n",
            "Epoch 12/30\n",
            "1719/1719 [==============================] - 12s 7ms/step - loss: 0.2066 - accuracy: 0.9275 - val_loss: 0.2758 - val_accuracy: 0.9062\n",
            "Epoch 13/30\n",
            "1719/1719 [==============================] - 12s 7ms/step - loss: 0.2054 - accuracy: 0.9308 - val_loss: 0.2538 - val_accuracy: 0.9142\n",
            "Epoch 14/30\n",
            "1719/1719 [==============================] - 11s 7ms/step - loss: 0.1941 - accuracy: 0.9339 - val_loss: 0.2582 - val_accuracy: 0.9152\n",
            "Epoch 15/30\n",
            "1719/1719 [==============================] - 11s 7ms/step - loss: 0.1877 - accuracy: 0.9356 - val_loss: 0.2668 - val_accuracy: 0.9154\n",
            "Epoch 16/30\n",
            "1719/1719 [==============================] - 12s 7ms/step - loss: 0.1779 - accuracy: 0.9373 - val_loss: 0.2711 - val_accuracy: 0.9170\n",
            "Epoch 17/30\n",
            "1719/1719 [==============================] - 11s 7ms/step - loss: 0.1834 - accuracy: 0.9384 - val_loss: 0.2766 - val_accuracy: 0.9140\n",
            "Epoch 18/30\n",
            "1719/1719 [==============================] - 11s 7ms/step - loss: 0.1731 - accuracy: 0.9407 - val_loss: 0.2780 - val_accuracy: 0.9106\n",
            "Epoch 19/30\n",
            "1719/1719 [==============================] - 12s 7ms/step - loss: 0.1642 - accuracy: 0.9451 - val_loss: 0.2649 - val_accuracy: 0.9198\n",
            "Epoch 20/30\n",
            "1719/1719 [==============================] - 11s 7ms/step - loss: 0.1597 - accuracy: 0.9453 - val_loss: 0.3509 - val_accuracy: 0.9132\n",
            "Epoch 21/30\n",
            "1719/1719 [==============================] - 12s 7ms/step - loss: 0.1569 - accuracy: 0.9460 - val_loss: 0.3186 - val_accuracy: 0.9184\n",
            "Epoch 22/30\n",
            "1719/1719 [==============================] - 12s 7ms/step - loss: 0.1481 - accuracy: 0.9493 - val_loss: 0.2998 - val_accuracy: 0.9212\n",
            "Epoch 23/30\n",
            "1719/1719 [==============================] - 12s 7ms/step - loss: 0.1485 - accuracy: 0.9513 - val_loss: 0.3102 - val_accuracy: 0.9196\n",
            "Epoch 24/30\n",
            "1719/1719 [==============================] - 11s 7ms/step - loss: 0.1429 - accuracy: 0.9513 - val_loss: 0.3358 - val_accuracy: 0.9114\n",
            "Epoch 25/30\n",
            "1719/1719 [==============================] - 11s 7ms/step - loss: 0.1313 - accuracy: 0.9555 - val_loss: 0.3158 - val_accuracy: 0.9124\n",
            "Epoch 26/30\n",
            "1719/1719 [==============================] - 12s 7ms/step - loss: 0.1399 - accuracy: 0.9540 - val_loss: 0.3627 - val_accuracy: 0.9146\n",
            "Epoch 27/30\n",
            "1719/1719 [==============================] - 12s 7ms/step - loss: 0.1447 - accuracy: 0.9523 - val_loss: 0.3511 - val_accuracy: 0.9146\n",
            "Epoch 28/30\n",
            "1719/1719 [==============================] - 12s 7ms/step - loss: 0.1317 - accuracy: 0.9564 - val_loss: 0.3909 - val_accuracy: 0.9154\n",
            "Epoch 29/30\n",
            "1719/1719 [==============================] - 11s 7ms/step - loss: 0.1421 - accuracy: 0.9543 - val_loss: 0.3312 - val_accuracy: 0.9156\n",
            "Epoch 30/30\n",
            "1719/1719 [==============================] - 12s 7ms/step - loss: 0.1262 - accuracy: 0.9587 - val_loss: 0.4107 - val_accuracy: 0.9166\n"
          ]
        },
        {
          "output_type": "execute_result",
          "data": {
            "text/plain": [
              "<keras.callbacks.History at 0x7f48137ca790>"
            ]
          },
          "metadata": {},
          "execution_count": 24
        }
      ]
    },
    {
      "cell_type": "markdown",
      "source": [
        "***Training Accuracy=95***      ***Validation accuracy= 91***\n",
        "\n",
        "***After using 2 drop out layers training accuracy has dropped significantly and came closer to the validation accuracy.***\n"
      ],
      "metadata": {
        "id": "45xvzzZnEiM6"
      }
    },
    {
      "cell_type": "markdown",
      "source": [
        "***In the below model we have kept number of filter same everywhere which don’t have not much impact but generally we should double the size of the filters after using MaxPooling layers.***\n",
        "\n",
        "***As we go deep in the CNN and after using MaxPooling layer we reduce the number of features significantly hence it is always better to use a greater number of filters to capture more data.***\n"
      ],
      "metadata": {
        "id": "urKrMBYeE2aj"
      }
    },
    {
      "cell_type": "code",
      "source": [
        "model_2= keras.models.Sequential([\n",
        "    Convl2d(filters=32, kernel_size=7, input_shape=[28,28,1]),\n",
        "    keras.layers.MaxPooling2D(pool_size=2),\n",
        "    Convl2d(filters=128),\n",
        "    Convl2d(filters=128),\n",
        "    keras.layers.MaxPool2D(pool_size=2),\n",
        "    Convl2d(filters=128),\n",
        "    Convl2d(filters=128),\n",
        "    keras.layers.Flatten(),\n",
        "    keras.layers.Dense(128, activation=\"relu\"),\n",
        "    keras.layers.Dropout(0.5),   \n",
        "    keras.layers.Dense(64, activation=\"relu\"),\n",
        "    keras.layers.Dropout(0.5),\n",
        "    keras.layers.Dense(10, activation=\"softmax\")\n",
        "])\n",
        "\n",
        "loss_fun= keras.losses.SparseCategoricalCrossentropy()\n",
        "optimizer_fun= keras.optimizers.Adam()\n",
        "model_2.compile(loss=loss_fun,\n",
        "              optimizer=optimizer_fun,\n",
        "              metrics=[\"accuracy\"])\n",
        "\n",
        "model_2.fit(X_train, y_train, epochs=30, validation_data=(X_valid, y_valid))"
      ],
      "metadata": {
        "colab": {
          "base_uri": "https://localhost:8080/"
        },
        "id": "q8zVtG5CA3Dq",
        "outputId": "a3e7b995-fc45-4ad5-ea54-e475990a716a"
      },
      "execution_count": 25,
      "outputs": [
        {
          "output_type": "stream",
          "name": "stdout",
          "text": [
            "Epoch 1/30\n",
            "1719/1719 [==============================] - 10s 6ms/step - loss: 0.7584 - accuracy: 0.7263 - val_loss: 0.3597 - val_accuracy: 0.8702\n",
            "Epoch 2/30\n",
            "1719/1719 [==============================] - 9s 5ms/step - loss: 0.4308 - accuracy: 0.8528 - val_loss: 0.3259 - val_accuracy: 0.8784\n",
            "Epoch 3/30\n",
            "1719/1719 [==============================] - 9s 6ms/step - loss: 0.3731 - accuracy: 0.8707 - val_loss: 0.2767 - val_accuracy: 0.8920\n",
            "Epoch 4/30\n",
            "1719/1719 [==============================] - 10s 6ms/step - loss: 0.3318 - accuracy: 0.8861 - val_loss: 0.2697 - val_accuracy: 0.8976\n",
            "Epoch 5/30\n",
            "1719/1719 [==============================] - 10s 6ms/step - loss: 0.3073 - accuracy: 0.8928 - val_loss: 0.2567 - val_accuracy: 0.9016\n",
            "Epoch 6/30\n",
            "1719/1719 [==============================] - 10s 6ms/step - loss: 0.2862 - accuracy: 0.9012 - val_loss: 0.2624 - val_accuracy: 0.9084\n",
            "Epoch 7/30\n",
            "1719/1719 [==============================] - 10s 6ms/step - loss: 0.2749 - accuracy: 0.9053 - val_loss: 0.2569 - val_accuracy: 0.9122\n",
            "Epoch 8/30\n",
            "1719/1719 [==============================] - 10s 6ms/step - loss: 0.2576 - accuracy: 0.9105 - val_loss: 0.2588 - val_accuracy: 0.9094\n",
            "Epoch 9/30\n",
            "1719/1719 [==============================] - 10s 6ms/step - loss: 0.2452 - accuracy: 0.9149 - val_loss: 0.2515 - val_accuracy: 0.9088\n",
            "Epoch 10/30\n",
            "1719/1719 [==============================] - 10s 6ms/step - loss: 0.2363 - accuracy: 0.9186 - val_loss: 0.2388 - val_accuracy: 0.9128\n",
            "Epoch 11/30\n",
            "1719/1719 [==============================] - 9s 5ms/step - loss: 0.2249 - accuracy: 0.9223 - val_loss: 0.2345 - val_accuracy: 0.9240\n",
            "Epoch 12/30\n",
            "1719/1719 [==============================] - 9s 5ms/step - loss: 0.2156 - accuracy: 0.9245 - val_loss: 0.2529 - val_accuracy: 0.9116\n",
            "Epoch 13/30\n",
            "1719/1719 [==============================] - 10s 6ms/step - loss: 0.2134 - accuracy: 0.9274 - val_loss: 0.2393 - val_accuracy: 0.9116\n",
            "Epoch 14/30\n",
            "1719/1719 [==============================] - 9s 5ms/step - loss: 0.2061 - accuracy: 0.9307 - val_loss: 0.2420 - val_accuracy: 0.9174\n",
            "Epoch 15/30\n",
            "1719/1719 [==============================] - 10s 6ms/step - loss: 0.1923 - accuracy: 0.9326 - val_loss: 0.2625 - val_accuracy: 0.9176\n",
            "Epoch 16/30\n",
            "1719/1719 [==============================] - 9s 5ms/step - loss: 0.1906 - accuracy: 0.9336 - val_loss: 0.2506 - val_accuracy: 0.9202\n",
            "Epoch 17/30\n",
            "1719/1719 [==============================] - 9s 5ms/step - loss: 0.1859 - accuracy: 0.9370 - val_loss: 0.2684 - val_accuracy: 0.9182\n",
            "Epoch 18/30\n",
            "1719/1719 [==============================] - 10s 6ms/step - loss: 0.1836 - accuracy: 0.9363 - val_loss: 0.2803 - val_accuracy: 0.9160\n",
            "Epoch 19/30\n",
            "1719/1719 [==============================] - 10s 6ms/step - loss: 0.1718 - accuracy: 0.9403 - val_loss: 0.2721 - val_accuracy: 0.9190\n",
            "Epoch 20/30\n",
            "1719/1719 [==============================] - 10s 6ms/step - loss: 0.1810 - accuracy: 0.9378 - val_loss: 0.3091 - val_accuracy: 0.9170\n",
            "Epoch 21/30\n",
            "1719/1719 [==============================] - 9s 5ms/step - loss: 0.1648 - accuracy: 0.9429 - val_loss: 0.3097 - val_accuracy: 0.9128\n",
            "Epoch 22/30\n",
            "1719/1719 [==============================] - 10s 6ms/step - loss: 0.1648 - accuracy: 0.9425 - val_loss: 0.2908 - val_accuracy: 0.9148\n",
            "Epoch 23/30\n",
            "1719/1719 [==============================] - 9s 5ms/step - loss: 0.1616 - accuracy: 0.9460 - val_loss: 0.2757 - val_accuracy: 0.9110\n",
            "Epoch 24/30\n",
            "1719/1719 [==============================] - 10s 6ms/step - loss: 0.1538 - accuracy: 0.9478 - val_loss: 0.2921 - val_accuracy: 0.9098\n",
            "Epoch 25/30\n",
            "1719/1719 [==============================] - 10s 6ms/step - loss: 0.1576 - accuracy: 0.9449 - val_loss: 0.3239 - val_accuracy: 0.9158\n",
            "Epoch 26/30\n",
            "1719/1719 [==============================] - 10s 6ms/step - loss: 0.1535 - accuracy: 0.9486 - val_loss: 0.3291 - val_accuracy: 0.9136\n",
            "Epoch 27/30\n",
            "1719/1719 [==============================] - 9s 5ms/step - loss: 0.1547 - accuracy: 0.9486 - val_loss: 0.3437 - val_accuracy: 0.9138\n",
            "Epoch 28/30\n",
            "1719/1719 [==============================] - 10s 6ms/step - loss: 0.1481 - accuracy: 0.9491 - val_loss: 0.3245 - val_accuracy: 0.9110\n",
            "Epoch 29/30\n",
            "1719/1719 [==============================] - 9s 6ms/step - loss: 0.1503 - accuracy: 0.9503 - val_loss: 0.3181 - val_accuracy: 0.9124\n",
            "Epoch 30/30\n",
            "1719/1719 [==============================] - 10s 6ms/step - loss: 0.1419 - accuracy: 0.9526 - val_loss: 0.3592 - val_accuracy: 0.9124\n"
          ]
        },
        {
          "output_type": "execute_result",
          "data": {
            "text/plain": [
              "<keras.callbacks.History at 0x7f48136a80a0>"
            ]
          },
          "metadata": {},
          "execution_count": 25
        }
      ]
    },
    {
      "cell_type": "code",
      "source": [
        "model_3= keras.models.Sequential([\n",
        "    Convl2d(filters=32, kernel_size=7, input_shape=[28,28,1]),\n",
        "    keras.layers.MaxPooling2D(pool_size=2),\n",
        "    Convl2d(filters=128),\n",
        "    Convl2d(filters=128),\n",
        "    keras.layers.MaxPool2D(pool_size=2),\n",
        "    Convl2d(filters=256),\n",
        "    Convl2d(filters=256),\n",
        "    keras.layers.MaxPool2D(pool_size=2),\n",
        "    Convl2d(filters=512),\n",
        "    Convl2d(filters=512),\n",
        "  \n",
        "    keras.layers.Flatten(),\n",
        "    keras.layers.Dense(128, activation=\"relu\"),\n",
        "    keras.layers.Dropout(0.5),   \n",
        "    keras.layers.Dense(64, activation=\"relu\"),\n",
        "    keras.layers.Dropout(0.5),\n",
        "    keras.layers.Dense(10, activation=\"softmax\")\n",
        "])\n",
        "\n",
        "loss_fun= keras.losses.SparseCategoricalCrossentropy()\n",
        "optimizer_fun= keras.optimizers.Adam()\n",
        "model_3.compile(loss=loss_fun,\n",
        "              optimizer=optimizer_fun,\n",
        "              metrics=[\"accuracy\"])\n",
        "\n",
        "model_3.fit(X_train, y_train, epochs=30, validation_data=(X_valid, y_valid))"
      ],
      "metadata": {
        "colab": {
          "base_uri": "https://localhost:8080/"
        },
        "id": "zMdkN9pmC189",
        "outputId": "c49225d0-732b-4afc-a0e1-5396841b4491"
      },
      "execution_count": 26,
      "outputs": [
        {
          "output_type": "stream",
          "name": "stdout",
          "text": [
            "Epoch 1/30\n",
            "1719/1719 [==============================] - 21s 12ms/step - loss: 0.9720 - accuracy: 0.6297 - val_loss: 0.4560 - val_accuracy: 0.8274\n",
            "Epoch 2/30\n",
            "1719/1719 [==============================] - 20s 12ms/step - loss: 0.4907 - accuracy: 0.8342 - val_loss: 0.3822 - val_accuracy: 0.8676\n",
            "Epoch 3/30\n",
            "1719/1719 [==============================] - 20s 11ms/step - loss: 0.3978 - accuracy: 0.8655 - val_loss: 0.3226 - val_accuracy: 0.8920\n",
            "Epoch 4/30\n",
            "1719/1719 [==============================] - 20s 11ms/step - loss: 0.3604 - accuracy: 0.8764 - val_loss: 0.3132 - val_accuracy: 0.8870\n",
            "Epoch 5/30\n",
            "1719/1719 [==============================] - 20s 11ms/step - loss: 0.3241 - accuracy: 0.8894 - val_loss: 0.2864 - val_accuracy: 0.8992\n",
            "Epoch 6/30\n",
            "1719/1719 [==============================] - 20s 12ms/step - loss: 0.3158 - accuracy: 0.8930 - val_loss: 0.2950 - val_accuracy: 0.8998\n",
            "Epoch 7/30\n",
            "1719/1719 [==============================] - 20s 12ms/step - loss: 0.3033 - accuracy: 0.8965 - val_loss: 0.2734 - val_accuracy: 0.9026\n",
            "Epoch 8/30\n",
            "1719/1719 [==============================] - 20s 12ms/step - loss: 0.2762 - accuracy: 0.9053 - val_loss: 0.2816 - val_accuracy: 0.9010\n",
            "Epoch 9/30\n",
            "1719/1719 [==============================] - 20s 11ms/step - loss: 0.2656 - accuracy: 0.9093 - val_loss: 0.3012 - val_accuracy: 0.9092\n",
            "Epoch 10/30\n",
            "1719/1719 [==============================] - 20s 12ms/step - loss: 0.2615 - accuracy: 0.9093 - val_loss: 0.2847 - val_accuracy: 0.9034\n",
            "Epoch 11/30\n",
            "1719/1719 [==============================] - 20s 12ms/step - loss: 0.2529 - accuracy: 0.9132 - val_loss: 0.2812 - val_accuracy: 0.9070\n",
            "Epoch 12/30\n",
            "1719/1719 [==============================] - 20s 12ms/step - loss: 0.2421 - accuracy: 0.9155 - val_loss: 0.2957 - val_accuracy: 0.9088\n",
            "Epoch 13/30\n",
            "1719/1719 [==============================] - 20s 11ms/step - loss: 0.2371 - accuracy: 0.9181 - val_loss: 0.2924 - val_accuracy: 0.9112\n",
            "Epoch 14/30\n",
            "1719/1719 [==============================] - 20s 11ms/step - loss: 0.2259 - accuracy: 0.9230 - val_loss: 0.2776 - val_accuracy: 0.9118\n",
            "Epoch 15/30\n",
            "1719/1719 [==============================] - 20s 11ms/step - loss: 0.2282 - accuracy: 0.9211 - val_loss: 0.2928 - val_accuracy: 0.9056\n",
            "Epoch 16/30\n",
            "1719/1719 [==============================] - 20s 12ms/step - loss: 0.2233 - accuracy: 0.9243 - val_loss: 0.2765 - val_accuracy: 0.9144\n",
            "Epoch 17/30\n",
            "1719/1719 [==============================] - 20s 11ms/step - loss: 0.2263 - accuracy: 0.9221 - val_loss: 0.2798 - val_accuracy: 0.9106\n",
            "Epoch 18/30\n",
            "1719/1719 [==============================] - 20s 11ms/step - loss: 0.2072 - accuracy: 0.9291 - val_loss: 0.2772 - val_accuracy: 0.9088\n",
            "Epoch 19/30\n",
            "1719/1719 [==============================] - 20s 11ms/step - loss: 0.2258 - accuracy: 0.9243 - val_loss: 0.2610 - val_accuracy: 0.9152\n",
            "Epoch 20/30\n",
            "1719/1719 [==============================] - 20s 12ms/step - loss: 0.2119 - accuracy: 0.9284 - val_loss: 0.3127 - val_accuracy: 0.9054\n",
            "Epoch 21/30\n",
            "1719/1719 [==============================] - 20s 11ms/step - loss: 0.2122 - accuracy: 0.9304 - val_loss: 0.3000 - val_accuracy: 0.9058\n",
            "Epoch 22/30\n",
            "1719/1719 [==============================] - 20s 12ms/step - loss: 0.1983 - accuracy: 0.9323 - val_loss: 0.3196 - val_accuracy: 0.9106\n",
            "Epoch 23/30\n",
            "1719/1719 [==============================] - 20s 12ms/step - loss: 0.2081 - accuracy: 0.9305 - val_loss: 0.3086 - val_accuracy: 0.9064\n",
            "Epoch 24/30\n",
            "1719/1719 [==============================] - 20s 11ms/step - loss: 0.1958 - accuracy: 0.9353 - val_loss: 0.3354 - val_accuracy: 0.9044\n",
            "Epoch 25/30\n",
            "1719/1719 [==============================] - 20s 11ms/step - loss: 0.1948 - accuracy: 0.9353 - val_loss: 0.3276 - val_accuracy: 0.9132\n",
            "Epoch 26/30\n",
            "1719/1719 [==============================] - 20s 12ms/step - loss: 0.2013 - accuracy: 0.9325 - val_loss: 0.3292 - val_accuracy: 0.9154\n",
            "Epoch 27/30\n",
            "1719/1719 [==============================] - 20s 12ms/step - loss: 0.2452 - accuracy: 0.9224 - val_loss: 0.3329 - val_accuracy: 0.9108\n",
            "Epoch 28/30\n",
            "1719/1719 [==============================] - 20s 12ms/step - loss: 0.1963 - accuracy: 0.9331 - val_loss: 0.3311 - val_accuracy: 0.9116\n",
            "Epoch 29/30\n",
            "1719/1719 [==============================] - 20s 12ms/step - loss: 0.3412 - accuracy: 0.9106 - val_loss: 0.3301 - val_accuracy: 0.9038\n",
            "Epoch 30/30\n",
            "1719/1719 [==============================] - 20s 12ms/step - loss: 0.2133 - accuracy: 0.9276 - val_loss: 0.3566 - val_accuracy: 0.9020\n"
          ]
        },
        {
          "output_type": "execute_result",
          "data": {
            "text/plain": [
              "<keras.callbacks.History at 0x7f481340e3a0>"
            ]
          },
          "metadata": {},
          "execution_count": 26
        }
      ]
    },
    {
      "cell_type": "markdown",
      "source": [
        "***Adding an extra layer has reduced the training accuracy and validation accuracy is not changed. ***"
      ],
      "metadata": {
        "id": "dahp4KVMFBET"
      }
    },
    {
      "cell_type": "markdown",
      "source": [
        "***In this note book we have played with very a smaller number of hyperparameter. In Deep Learning Architectures we do have lot of parameter to tweak and check the model performance. \n",
        "There are methods available like GridSearchCv, that we can use and play with the parameters also we can create custom functions and the best parameters.***\n"
      ],
      "metadata": {
        "id": "rCuTAJhCGIyg"
      }
    },
    {
      "cell_type": "markdown",
      "source": [],
      "metadata": {
        "id": "wPaAjgbpDYdl"
      }
    }
  ]
}